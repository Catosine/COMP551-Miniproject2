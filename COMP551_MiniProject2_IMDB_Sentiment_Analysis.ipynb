{
 "cells": [
  {
   "cell_type": "markdown",
   "metadata": {},
   "source": [
    "# COMP551 Mini Project 2 - IMDB Sentiment Analysis  \n",
    "This is the codes of mini project2 - IMDB Sentiment Analysis.  \n",
    "\n",
    "## AUTHORS\n",
    "Pengnan Fan, ID#260768510  \n",
    "\n",
    "## TASKS\n",
    "1. **Bernoulli Naive Bayes** (w/o any external library).  \n",
    "2. **At least 2** out of 3 classifiers from the SciKit. i.e. suggestions: logistic regression, decision tree, or support vector machines  \n",
    "3. **At least 2** different features extraction pipelines for processing the data.  \n",
    "4. A model validation. i.e. **K-fold cross validation**  \n",
    "\n",
    "## UPDATES\n",
    "**<Januare 6, 2019>** Pengnan Fan create this notebook and write function readData  \n",
    "> * **readTrainData(address:String):DataFrame**  \n",
    "> This method takes a string **address** which indicates the address of your train data and will load comments and isPositive to a DataFrame.\n",
    "> * **readTestData(address:String):DataFrame**  \n",
    "> This method takes a string **address** which indicates the address of your test data and will load comments and isPositive to a DataFrame. **Note: all isPositive is initialized as 0**  \n",
    "> * **Learning set** 25000 in total\n",
    "> * **Test set** 25000 in total"
   ]
  },
  {
   "cell_type": "code",
   "execution_count": 4,
   "metadata": {},
   "outputs": [
    {
     "name": "stdout",
     "output_type": "stream",
     "text": [
      "Start reading learning set\n",
      "Start reading negative comments: [=================== ] 99%\n",
      "Complete reading negative comments\n",
      "Start reading positive comments: [=================== ] 99%\n",
      "Complete reading postive comments\n",
      "Complete reading learning set\n",
      "\n",
      "Start reading test set: [=================== ] 99%\n",
      "Complete reading test set\n"
     ]
    }
   ],
   "source": [
    "# Task 0 - Preprocessing Data\n",
    "# @author Pengnan Fan\n",
    "\n",
    "import pandas as pd\n",
    "import glob\n",
    "import sys\n",
    "from time import sleep\n",
    "\n",
    "# Please add your address here as string\n",
    "ADDRESS_TRAIN_PENGNAN = \"D:\\\\McGill\\\\19Fall\\\\COMP 551\\\\Projects\\\\Project2\\\\comp-551-imbd-sentiment-classification\\\\train\"\n",
    "ADDRESS_TEST_PENGNAN = \"D:\\\\McGill\\\\19Fall\\\\COMP 551\\\\Projects\\\\Project2\\\\comp-551-imbd-sentiment-classification\\\\test\"\n",
    "\n",
    "# @param address: address of your train data file as string\n",
    "# @return output: DataFrame{'comment':comments, 'isPositive':[0,1]}\n",
    "def readTrainData(address):\n",
    "    \n",
    "    print(\"Start reading learning set\")\n",
    "    # Read negative data as DataFrame\n",
    "    comment = []\n",
    "    isPositive = []\n",
    "    allNegFiles = glob.glob(address+\"\\\\neg\" + \"/*.txt\")\n",
    "    count = 0\n",
    "    lenN = len(allNegFiles)\n",
    "    for file in allNegFiles:\n",
    "        comment.append(pd.read_csv(file, quotechar=None, quoting=3, delimiter='\\r').columns[0])\n",
    "        isPositive.append(0)\n",
    "        \n",
    "        # This is for loading bar\n",
    "        sys.stdout.write('\\r')\n",
    "        c = int((float(count) / float(lenN)) * 100)\n",
    "        sys.stdout.write(\"Start reading negative comments: [%-20s] %d%%\" % ('='*int(c / 5), c))\n",
    "        sleep(0.001)\n",
    "        sys.stdout.flush()\n",
    "        count += 1\n",
    "        \n",
    "    print(\"\\nComplete reading negative comments\")\n",
    "    \n",
    "    # Read positive data as DataFrame\n",
    "    allPosFiles = glob.glob(address+\"\\\\pos\" + \"/*.txt\")\n",
    "    count = 0\n",
    "    lenP = len(allPosFiles)\n",
    "    for file in allPosFiles:\n",
    "        comment.append(pd.read_csv(file, quotechar=None, quoting=3, delimiter='\\r').columns[0])\n",
    "        isPositive.append(1)\n",
    "        \n",
    "        # This is for loading bar\n",
    "        c = int((float(count) / float(lenP)) * 100)\n",
    "        sys.stdout.write('\\r')\n",
    "        sys.stdout.write(\"Start reading positive comments: [%-20s] %d%%\" % ('='*int(c / 5), c))\n",
    "        sleep(0.001)\n",
    "        sys.stdout.flush()\n",
    "        count += 1\n",
    "        \n",
    "    print(\"\\nComplete reading postive comments\")\n",
    "    print(\"Complete reading learning set\\n\")\n",
    "    \n",
    "    output = pd.DataFrame({'comment':comment, 'isPositive':isPositive})\n",
    "    return output\n",
    "\n",
    "# @param address: address of your test data file as string\n",
    "# @return output: DataFrame{'comment':comments, 'isPositive':[0,1]}\n",
    "# Note: all isPositive is initialized as 0\n",
    "def readTestData(address):\n",
    "    \n",
    "    # Read negative data as DataFrame\n",
    "    comment = []\n",
    "    isPositive = []\n",
    "    allFiles = glob.glob(address+\"/*.txt\")\n",
    "    count = 0\n",
    "    lenN = len(allFiles)\n",
    "    for file in allFiles:\n",
    "        comment.append(pd.read_csv(file, quotechar=None, quoting=3, delimiter='\\r').columns[0])\n",
    "        isPositive.append(0)\n",
    "        \n",
    "        # This is for loading bar\n",
    "        sys.stdout.write('\\r')\n",
    "        c = int((float(count) / float(lenN)) * 100)\n",
    "        sys.stdout.write(\"Start reading test set: [%-20s] %d%%\" % ('='*int(c / 5), c))\n",
    "        sleep(0.001)\n",
    "        sys.stdout.flush()\n",
    "        count += 1\n",
    "        \n",
    "    print(\"\\nComplete reading test set\")\n",
    "    \n",
    "    output = pd.DataFrame({'comment':comment, 'isPositive':isPositive})\n",
    "    return output\n",
    "\n",
    "learningSet = readTrainData(ADDRESS_TRAIN_PENGNAN)\n",
    "testSet = readTestData(ADDRESS_TEST_PENGNAN)"
   ]
  },
  {
   "cell_type": "code",
   "execution_count": 5,
   "metadata": {},
   "outputs": [
    {
     "name": "stdout",
     "output_type": "stream",
     "text": [
      "The first learning set comment is:\n",
      " Story of a man who has unnatural feelings for a pig. Starts out with a opening scene that is a terrific example of absurd comedy. A formal orchestra audience is turned into an insane, violent mob by the crazy chantings of it's singers. Unfortunately it stays absurd the WHOLE time with no general narrative eventually making it just too off putting. Even those from the era should be turned off. The cryptic dialogue would make Shakespeare seem easy to a third grader. On a technical level it's better than you might think with some good cinematography by future great Vilmos Zsigmond. Future stars Sally Kirkland and Frederic Forrest can be seen briefly. \n",
      "isPositive:  0\n",
      "The total size of learning set:  25000\n",
      "The first test comment is:\n",
      " Thinking that it could only get better was the worst assumption I ever made....<br /><br />Drivvle does not describe this movie appropriately enough!<br /><br />Not only is the plot thin, but I get more emotional acting from my pet fish!<br /><br />It was a shame to see Pete Postlethwaite, whom I respect as an actor trying to do the best with the little he had to work with...<br /><br />I think that a cardboard cut out of Stephen Baldwin would have done a better job , and in fact have been more animate.<br /><br />Avoid at all costs! This could really be hazardous to your health!\n",
      "The total size of test set:  25000\n"
     ]
    }
   ],
   "source": [
    "print(\"The first learning set comment is:\\n\", learningSet['comment'][0],'\\nisPositive: ', learningSet['isPositive'][0])\n",
    "print(\"The total size of learning set: \", len(learningSet.comment))\n",
    "print(\"The first test comment is:\\n\", testSet['comment'][0])\n",
    "print(\"The total size of test set: \", len(testSet.comment))"
   ]
  },
  {
   "cell_type": "code",
   "execution_count": null,
   "metadata": {},
   "outputs": [],
   "source": []
  }
 ],
 "metadata": {
  "kernelspec": {
   "display_name": "Python 3",
   "language": "python",
   "name": "python3"
  },
  "language_info": {
   "codemirror_mode": {
    "name": "ipython",
    "version": 3
   },
   "file_extension": ".py",
   "mimetype": "text/x-python",
   "name": "python",
   "nbconvert_exporter": "python",
   "pygments_lexer": "ipython3",
   "version": "3.7.1"
  }
 },
 "nbformat": 4,
 "nbformat_minor": 2
}
